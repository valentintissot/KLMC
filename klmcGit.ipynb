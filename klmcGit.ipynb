{
 "cells": [
  {
   "cell_type": "markdown",
   "metadata": {},
   "source": [
    "### Karhuhen-Loève Monte Carlo (KLMC)\n",
    "\n",
    "Consider  payoffs of the form $$\\varphi_m(X_{\\tau}) = (h_m \\circ  f)(X_{\\tau}),$$\n",
    "where $f$ is a running functional and $h_m:\\mathbb{R} \\to \\mathbb{R}$ that depends on some parameter $m \\in \\mathbb{R} $. \n",
    "\n",
    "\n",
    "Example: A call option on $Y=f(X)$  is obtained with $h_m(y) = (y-m\\, x_0)^{+}$ and $m$ is the _moneyness_ of the claim. "
   ]
  },
  {
   "cell_type": "code",
   "execution_count": 1,
   "metadata": {},
   "outputs": [],
   "source": [
    "import numpy as np\n",
    "import numpy.random as rdm\n",
    "from scipy import interpolate as it\n",
    "from numpy import linalg as ln\n",
    "\n",
    "from ttictoc import tic,toc\n",
    "import matplotlib.pyplot as plt; plt.style.use('dark_background')\n",
    "import matplotlib.colors as colors\n",
    "from matplotlib import cm\n",
    "__ = np.newaxis\n",
    "\n",
    "import pandas as pd"
   ]
  },
  {
   "cell_type": "code",
   "execution_count": 2,
   "metadata": {},
   "outputs": [],
   "source": [
    "# Parameters\n",
    "T, Noff = 1, int(1e3)\n",
    "ts, dt = np.linspace(0,T,Noff+1), T/Noff\n",
    "Ts     = ts[:,__]\n",
    "# Parameters\n",
    "x0, r, delta, sig = 100, 0.0, 0.0, 0.2\n",
    "# Ito map (Black-Scholes model)\n",
    "def w2X(W,Ts): return x0 * np.exp((r-delta-sig**2/2)*Ts + sig*W)\n",
    "# Functionals \n",
    "f = {\"Asian\"   : lambda X: np.vstack([X[0,:],np.cumsum((X[:-1,:] + X[1:,:])/2,axis=0)\\\n",
    "                          /np.arange(1,np.shape(X)[0])[:,__]]),\n",
    "     \"Lookback\": lambda X: np.maximum.accumulate(X,axis = 0)}\n",
    "# Vanilla payoffs\n",
    "hV  = lambda y,m: np.maximum(y-m*x0,0.)\n",
    "# Up & Out Digital (same underlying functional as the lookback)\n",
    "f[\"U&O\"] = f[\"Lookback\"]\n",
    "# Up & Out digital payoff  \n",
    "hUO = lambda y,b: 1 * (y < b*x0)\n",
    "# Payoffs\n",
    "h  = {\"Asian\": hV, \"Lookback\": hV, \"U&O\": hUO}               \n",
    "# Truncation Levels\n",
    "K  = {\"Asian\": 40, \"Lookback\": 100, \"U&O\": 100} \n",
    "# Number of simulations (offline and online)\n",
    "Joff,J = 2**17, 2**19 \n",
    "# Moneyness/Barrier Level\n",
    "Ms = {\"Asian\"   : np.linspace(0.75,1.25,11), \n",
    "      \"Lookback\": np.linspace(0.75,1.25,11),\n",
    "      \"U&O\"     : np.linspace(1.05,1.5,10)}\n",
    "# Maturity Grid\n",
    "nT = 52; Taus = np.linspace(1/nT,T,nT)"
   ]
  },
  {
   "cell_type": "markdown",
   "metadata": {
    "tags": []
   },
   "source": [
    "### Karhunen-Loève Transform"
   ]
  },
  {
   "cell_type": "code",
   "execution_count": 3,
   "metadata": {},
   "outputs": [],
   "source": [
    "def BM(T,N,nSim): \n",
    "    \"\"\"Brownian Motions\"\"\"\n",
    "    # Brownian increments\n",
    "    dW = np.sqrt(T/N) * rdm.randn(N,nSim)\n",
    "    return np.vstack([np.zeros_like(dW[0,:]),np.cumsum(dW,axis=0)])\n",
    "\n",
    "# Trapezoidal Weights\n",
    "w = 2**(np.sum(np.eye(Noff+1)[:,1:-1],axis=1,keepdims = True) -1)\n",
    "# L^2 Norm\n",
    "L2Norm = lambda Y: np.sqrt(np.sum(w * Y**2,axis = 0) * dt)\n",
    "\n",
    "def KL(kappa):\n",
    "    \"\"\"Karhunen-Loève Basis\"\"\"\n",
    "    # Solve the Fredholm integral equations \n",
    "    # (with trapezoidal rule) in one go\n",
    "    lbda, F = ln.eig(kappa * w.T * dt) \n",
    "    return F / L2Norm(F), lbda\n",
    "\n",
    "# Thin partition of [0,1] for the quantile function\n",
    "us = np.linspace(0,1,int(1e4)) \n",
    "\n",
    "def klmcOff(f,K):\n",
    "    \"\"\"KLMC Method, Offline Phase\"\"\"\n",
    "    # Simulate trajectories of f(X)\n",
    "    Y =  f(w2X(BM(T,Noff,Joff),Ts))\n",
    "    # Mean function\n",
    "    mu_ = np.mean(Y,axis=1,keepdims = True)\n",
    "    # Eigendecomposition\n",
    "    F_,lbda = KL(np.cov(Y))\n",
    "    # L2 coefficients\n",
    "    xi = F_[:,:K].T @ (w * (Y - mu_)) * dt\n",
    "    # Interpolated mean and eigenfunctions (to price options for any maturity)\n",
    "    mu = it.interp1d(ts,mu_.flatten()) \n",
    "    F  = [it.interp1d(ts,F_[:,k]) for k in range(K)]\n",
    "    # Quantile Function\n",
    "    phiInv = [it.interp1d(us,np.quantile(xi[k,:],us)) for k in range(K)]\n",
    "    return F,mu,phiInv"
   ]
  },
  {
   "cell_type": "code",
   "execution_count": 4,
   "metadata": {
    "tags": []
   },
   "outputs": [],
   "source": [
    "# Offline Phase\n",
    "F,mu,phiInv = {},{},{}\n",
    "for key in [\"Asian\",\"Lookback\"]: F[key],mu[key],phiInv[key] = klmcOff(f[key],K[key])\n",
    "# Use the Lookback output for Up and Out Digital options\n",
    "F[\"U&O\"],mu[\"U&O\"],phiInv[\"U&O\"] = F[key],mu[key],phiInv[key]"
   ]
  },
  {
   "cell_type": "markdown",
   "metadata": {
    "tags": []
   },
   "source": [
    "### Price Surface\n",
    "\n",
    "Standard Monte Carlo (MC)\n",
    "$$\n",
    "p^{N,J}(m,\\tau) = \\frac{1}{J}\\sum_{j=1}^J \\varphi_m(X^{N,j}_\\tau).\n",
    "$$\n",
    "\n",
    "\n",
    "\n",
    "Karhunen-Loève Monte Carlo (KLMC)\n",
    "$$\n",
    "p^{K,\\mathfrak{F},J}(m,\\tau) = \\frac{1}{J}\\sum_{j=1}^J h_m(y_\\tau^{K,\\mathfrak{F},j}).\n",
    "$$"
   ]
  },
  {
   "cell_type": "code",
   "execution_count": 5,
   "metadata": {},
   "outputs": [],
   "source": [
    "def mcPrice(Y,h,Ms,Taus):\n",
    "    \"\"\"Monte Carlo Price Surface\"\"\"\n",
    "    return np.vstack([np.exp(-r*Taus)*np.mean(h(Y,m),axis=1) for m in Ms])\n",
    "\n",
    "def klmcOn(phiInv,F,mu,h,J,Ms,Taus):\n",
    "    \"\"\"KLMC Method, Online Phase\"\"\"\n",
    "    # 1. Simulate L^2 coefficients\n",
    "    xi = np.vstack([ph(rdm.rand(J)) for ph in phiInv])\n",
    "    # 2. Transformed paths\n",
    "    Y  = mu(Taus)[:,__] + np.vstack([F_(Taus) for F_ in F]).T @ xi\n",
    "    # 3. Monte Carlo price\n",
    "    return mcPrice(Y,h,Ms,Taus)\n",
    "\n",
    "def mc(f,h,J,N,ts,Ms,Taus):\n",
    "    \"\"\"Standard Monte Carlo (MC)\"\"\"\n",
    "    # Simulate underlying stock price\n",
    "    X   = w2X(BM(T,N,J),ts[:,__])\n",
    "    # Locate maturities\n",
    "    ids = [np.where(np.round(ts-tau,12) == 0)[0][0] for tau in Taus]\n",
    "    # Price Surface\n",
    "    return mcPrice(f(X)[ids],h,Ms,Taus)"
   ]
  },
  {
   "cell_type": "code",
   "execution_count": 8,
   "metadata": {},
   "outputs": [
    {
     "name": "stdout",
     "output_type": "stream",
     "text": [
      "mkdir: KLMC: File exists\n",
      "mkdir: MC: File exists\n",
      "mkdir: Results: File exists\n"
     ]
    }
   ],
   "source": [
    "# Create directories to store the results\n",
    "!mkdir KLMC MC Results"
   ]
  },
  {
   "cell_type": "code",
   "execution_count": 9,
   "metadata": {},
   "outputs": [],
   "source": [
    "def priceSurf(met,nMC = 0,name = \"\"): \n",
    "    # Price Surface\n",
    "    p,runTime = {},{}\n",
    "    for key in h.keys(): \n",
    "        tic()   \n",
    "        if met == \"KLMC\":\n",
    "            p[key] = klmcOn(phiInv[key],F[key],mu[key],h[key],J,Ms[key],Taus)  \n",
    "            info = \"K = %d\"%K[key]\n",
    "        else:\n",
    "            ts_ = np.linspace(0,T,nMC[key]+1)\n",
    "            p[key] = mc(f[key],h[key],J,nMC[key],ts_,Ms[key],Taus) \n",
    "            info = \"N = %d\"%nMC[key]\n",
    "        runTime[key] = [toc()]   \n",
    "        # Save results\n",
    "        out = pd.DataFrame(p[key],columns = Taus,index = Ms[key])\n",
    "        out.to_csv(\"%s/%s,J = %d,%s%s.csv\"%(met,key,J,info,name)) \n",
    "    out2 = pd.DataFrame.from_dict(runTime)\n",
    "    out2.to_csv(\"%s/Runtime,J = %d%s.csv\"%(met,J,name))\n",
    "    display(out2)"
   ]
  },
  {
   "cell_type": "code",
   "execution_count": 10,
   "metadata": {},
   "outputs": [
    {
     "data": {
      "text/html": [
       "<div>\n",
       "<style scoped>\n",
       "    .dataframe tbody tr th:only-of-type {\n",
       "        vertical-align: middle;\n",
       "    }\n",
       "\n",
       "    .dataframe tbody tr th {\n",
       "        vertical-align: top;\n",
       "    }\n",
       "\n",
       "    .dataframe thead th {\n",
       "        text-align: right;\n",
       "    }\n",
       "</style>\n",
       "<table border=\"1\" class=\"dataframe\">\n",
       "  <thead>\n",
       "    <tr style=\"text-align: right;\">\n",
       "      <th></th>\n",
       "      <th>Asian</th>\n",
       "      <th>Lookback</th>\n",
       "      <th>U&amp;O</th>\n",
       "    </tr>\n",
       "  </thead>\n",
       "  <tbody>\n",
       "    <tr>\n",
       "      <th>0</th>\n",
       "      <td>2.275538</td>\n",
       "      <td>4.441355</td>\n",
       "      <td>4.275543</td>\n",
       "    </tr>\n",
       "  </tbody>\n",
       "</table>\n",
       "</div>"
      ],
      "text/plain": [
       "      Asian  Lookback       U&O\n",
       "0  2.275538  4.441355  4.275543"
      ]
     },
     "metadata": {},
     "output_type": "display_data"
    }
   ],
   "source": [
    "# KLMC\n",
    "priceSurf(\"KLMC\")"
   ]
  },
  {
   "cell_type": "code",
   "execution_count": 11,
   "metadata": {},
   "outputs": [
    {
     "data": {
      "text/html": [
       "<div>\n",
       "<style scoped>\n",
       "    .dataframe tbody tr th:only-of-type {\n",
       "        vertical-align: middle;\n",
       "    }\n",
       "\n",
       "    .dataframe tbody tr th {\n",
       "        vertical-align: top;\n",
       "    }\n",
       "\n",
       "    .dataframe thead th {\n",
       "        text-align: right;\n",
       "    }\n",
       "</style>\n",
       "<table border=\"1\" class=\"dataframe\">\n",
       "  <thead>\n",
       "    <tr style=\"text-align: right;\">\n",
       "      <th></th>\n",
       "      <th>Asian</th>\n",
       "      <th>Lookback</th>\n",
       "      <th>U&amp;O</th>\n",
       "    </tr>\n",
       "  </thead>\n",
       "  <tbody>\n",
       "    <tr>\n",
       "      <th>0</th>\n",
       "      <td>2.179737</td>\n",
       "      <td>7.035155</td>\n",
       "      <td>7.055907</td>\n",
       "    </tr>\n",
       "  </tbody>\n",
       "</table>\n",
       "</div>"
      ],
      "text/plain": [
       "      Asian  Lookback       U&O\n",
       "0  2.179737  7.035155  7.055907"
      ]
     },
     "metadata": {},
     "output_type": "display_data"
    }
   ],
   "source": [
    "# MC\n",
    "nMC =  {\"Asian\": nT, \"Lookback\": 4*nT, \"U&O\": 4*nT}   \n",
    "priceSurf(\"MC\",nMC)"
   ]
  },
  {
   "cell_type": "code",
   "execution_count": 12,
   "metadata": {},
   "outputs": [
    {
     "data": {
      "text/html": [
       "<div>\n",
       "<style scoped>\n",
       "    .dataframe tbody tr th:only-of-type {\n",
       "        vertical-align: middle;\n",
       "    }\n",
       "\n",
       "    .dataframe tbody tr th {\n",
       "        vertical-align: top;\n",
       "    }\n",
       "\n",
       "    .dataframe thead th {\n",
       "        text-align: right;\n",
       "    }\n",
       "</style>\n",
       "<table border=\"1\" class=\"dataframe\">\n",
       "  <thead>\n",
       "    <tr style=\"text-align: right;\">\n",
       "      <th></th>\n",
       "      <th>Asian</th>\n",
       "      <th>Lookback</th>\n",
       "      <th>U&amp;O</th>\n",
       "    </tr>\n",
       "  </thead>\n",
       "  <tbody>\n",
       "    <tr>\n",
       "      <th>0</th>\n",
       "      <td>72.375054</td>\n",
       "      <td>97.002732</td>\n",
       "      <td>108.820367</td>\n",
       "    </tr>\n",
       "  </tbody>\n",
       "</table>\n",
       "</div>"
      ],
      "text/plain": [
       "       Asian   Lookback         U&O\n",
       "0  72.375054  97.002732  108.820367"
      ]
     },
     "metadata": {},
     "output_type": "display_data"
    }
   ],
   "source": [
    "# Benchmark\n",
    "nB =  {\"Asian\": 40*nT, \"Lookback\": 40*nT, \"U&O\": 40*nT} \n",
    "priceSurf(\"MC\",nB,\",Benchmark\")"
   ]
  },
  {
   "cell_type": "markdown",
   "metadata": {},
   "source": [
    "## Error"
   ]
  },
  {
   "cell_type": "code",
   "execution_count": 14,
   "metadata": {},
   "outputs": [
    {
     "data": {
      "text/html": [
       "<div>\n",
       "<style scoped>\n",
       "    .dataframe tbody tr th:only-of-type {\n",
       "        vertical-align: middle;\n",
       "    }\n",
       "\n",
       "    .dataframe tbody tr th {\n",
       "        vertical-align: top;\n",
       "    }\n",
       "\n",
       "    .dataframe thead th {\n",
       "        text-align: right;\n",
       "    }\n",
       "</style>\n",
       "<table border=\"1\" class=\"dataframe\">\n",
       "  <thead>\n",
       "    <tr style=\"text-align: right;\">\n",
       "      <th></th>\n",
       "      <th>K</th>\n",
       "      <th>KLMC</th>\n",
       "      <th>KLMC time</th>\n",
       "      <th>N</th>\n",
       "      <th>MC</th>\n",
       "      <th>MC time</th>\n",
       "    </tr>\n",
       "  </thead>\n",
       "  <tbody>\n",
       "    <tr>\n",
       "      <th>Asian</th>\n",
       "      <td>40</td>\n",
       "      <td>0.00022</td>\n",
       "      <td>2.275538</td>\n",
       "      <td>52</td>\n",
       "      <td>0.00016</td>\n",
       "      <td>2.179737</td>\n",
       "    </tr>\n",
       "    <tr>\n",
       "      <th>Lookback</th>\n",
       "      <td>100</td>\n",
       "      <td>0.01291</td>\n",
       "      <td>4.441355</td>\n",
       "      <td>208</td>\n",
       "      <td>0.21581</td>\n",
       "      <td>7.035155</td>\n",
       "    </tr>\n",
       "    <tr>\n",
       "      <th>U&amp;O</th>\n",
       "      <td>100</td>\n",
       "      <td>0.00019</td>\n",
       "      <td>4.275543</td>\n",
       "      <td>208</td>\n",
       "      <td>0.00019</td>\n",
       "      <td>7.055907</td>\n",
       "    </tr>\n",
       "  </tbody>\n",
       "</table>\n",
       "</div>"
      ],
      "text/plain": [
       "            K     KLMC  KLMC time    N       MC   MC time\n",
       "Asian      40  0.00022   2.275538   52  0.00016  2.179737\n",
       "Lookback  100  0.01291   4.441355  208  0.21581  7.035155\n",
       "U&O       100  0.00019   4.275543  208  0.00019  7.055907"
      ]
     },
     "metadata": {},
     "output_type": "display_data"
    }
   ],
   "source": [
    "methods = [\"KLMC\",\"MC\"]\n",
    "info    = {\"KLMC\": {key: \"K = %d\"%K[key] for key in f.keys()},\n",
    "           \"MC\"  : {key: \"N = %d\"%nMC[key] for key in f.keys()}}\n",
    "\n",
    "p,err,mse = {m: {} for m in methods},{m: {} for m in methods},{m: {} for m in methods}\n",
    "runtime = {}\n",
    "for key in f.keys():\n",
    "    pBench = pd.read_csv(\"MC/%s,J = %d,N = %d,Benchmark.csv\"%(key,J,nB[key]),index_col=0).to_numpy()\n",
    "    for met in methods:\n",
    "        df = pd.read_csv(\"%s/%s,J = %d,%s.csv\"%(met,key,J,info[met][key]),index_col=0)\n",
    "        p[met][key]   = df.to_numpy()\n",
    "        err[met][key] = p[met][key] - pBench\n",
    "        mse[met][key] = np.round(np.mean(err[met][key]**2),5)\n",
    "        runtime[met]  = pd.read_csv(\"%s/Runtime,J = %d.csv\"%(met,J),index_col=0)\n",
    "outMSE = pd.DataFrame.from_dict(mse)\n",
    "outRT  = pd.concat([out for out in runtime.values()]).T; outRT.columns = [\"KLMC time\",\"MC time\"]\n",
    "outVal = pd.DataFrame.from_dict([K,nMC]).T            ; outVal.columns = [\"K\",\"N\"]\n",
    "out = pd.concat([outMSE,outRT,outVal],axis=1)[[\"K\",\"KLMC\",\"KLMC time\",\"N\",\"MC\",\"MC time\"]]\n",
    "out.to_csv(\"Results/MSE and Runtime.csv\")\n",
    "display(out)"
   ]
  },
  {
   "cell_type": "code",
   "execution_count": null,
   "metadata": {},
   "outputs": [],
   "source": []
  }
 ],
 "metadata": {
  "kernelspec": {
   "display_name": "Python 3 (ipykernel)",
   "language": "python",
   "name": "python3"
  },
  "language_info": {
   "codemirror_mode": {
    "name": "ipython",
    "version": 3
   },
   "file_extension": ".py",
   "mimetype": "text/x-python",
   "name": "python",
   "nbconvert_exporter": "python",
   "pygments_lexer": "ipython3",
   "version": "3.9.9"
  }
 },
 "nbformat": 4,
 "nbformat_minor": 4
}
